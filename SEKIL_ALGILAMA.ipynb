{
 "cells": [
  {
   "cell_type": "code",
   "execution_count": 1,
   "id": "e8202b16",
   "metadata": {},
   "outputs": [],
   "source": [
    "from ultralytics import*\n",
    "from face_recognition import*\n",
    "import pandas as pd\n",
    "import cv2\n",
    "from collections import*\n",
    "import numpy as np\n",
    "import pytesseract\n",
    "import winsound\n",
    "import time\n",
    "import matplotlib.pyplot as plt\n",
    "import imutils"
   ]
  },
  {
   "cell_type": "code",
   "execution_count": null,
   "id": "54017eb0",
   "metadata": {},
   "outputs": [],
   "source": []
  },
  {
   "cell_type": "code",
   "execution_count": 2,
   "id": "9471db82",
   "metadata": {
    "scrolled": true
   },
   "outputs": [],
   "source": [
    "pen=cv2.VideoCapture(0)\n",
    "\n",
    "while True:\n",
    "    ret,camera=pen.read()\n",
    "    gri=cv2.cvtColor(camera,cv2.COLOR_BGR2GRAY)\n",
    "    a,thresh=cv2.threshold(gri,100,200,cv2.THRESH_TOZERO_INV)\n",
    "    contours,b=cv2.findContours(thresh,cv2.RETR_TREE,cv2.CHAIN_APPROX_SIMPLE)\n",
    "    \n",
    "    for i in contours:\n",
    "        e=0.01*cv2.arcLength(i,True)\n",
    "        approx=cv2.approxPolyDP(i,e,True)\n",
    "        cv2.drawContours(camera,[approx],0,8)\n",
    "        \n",
    "        x=approx.ravel()[0]\n",
    "        y=approx.ravel()[1]\n",
    "        \n",
    "        if len(approx)==3:\n",
    "            cv2.putText(camera,\"UCGEN\",(x,y),cv2.FONT_HERSHEY_COMPLEX,1,1,(0))\n",
    "        if len(approx)==4:\n",
    "            cv2.putText(camera,\"DORTGEN\",(x,y),cv2.FONT_HERSHEY_COMPLEX,1,1,(0))\n",
    "        if len(approx)==5:\n",
    "            cv2.putText(camera,\"BESGEN\",(x,y),cv2.FONT_HERSHEY_COMPLEX,1,1,(0))\n",
    "        if len(approx)==6:\n",
    "            cv2.putText(camera,\"ALTIGEN\",(x,y),cv2.FONT_HERSHEY_COMPLEX,1,1,(0))\n",
    "        if len(approx)>6:\n",
    "            cv2.putText(camera,\"COKGEN\",(x,y),cv2.FONT_HERSHEY_COMPLEX,1,2,(0))\n",
    "        \n",
    "    cv2.imshow(\"CAMERA\",camera)\n",
    "    if cv2.waitKey(1) & 0xff==ord(\"q\"):\n",
    "        break\n",
    "\n",
    "pen.release()\n",
    "cv2.destroyAllWindows()"
   ]
  },
  {
   "cell_type": "code",
   "execution_count": null,
   "id": "c984a717",
   "metadata": {},
   "outputs": [],
   "source": []
  },
  {
   "cell_type": "code",
   "execution_count": null,
   "id": "ff9a33fa",
   "metadata": {},
   "outputs": [],
   "source": []
  },
  {
   "cell_type": "code",
   "execution_count": null,
   "id": "5e93895d",
   "metadata": {},
   "outputs": [],
   "source": []
  },
  {
   "cell_type": "code",
   "execution_count": null,
   "id": "3fb14c5b",
   "metadata": {},
   "outputs": [],
   "source": []
  },
  {
   "cell_type": "code",
   "execution_count": null,
   "id": "22e685c4",
   "metadata": {},
   "outputs": [],
   "source": []
  },
  {
   "cell_type": "code",
   "execution_count": null,
   "id": "ac8a6598",
   "metadata": {},
   "outputs": [],
   "source": []
  },
  {
   "cell_type": "code",
   "execution_count": null,
   "id": "f530bb4b",
   "metadata": {},
   "outputs": [],
   "source": []
  },
  {
   "cell_type": "code",
   "execution_count": null,
   "id": "16f2b78b",
   "metadata": {},
   "outputs": [],
   "source": []
  },
  {
   "cell_type": "code",
   "execution_count": null,
   "id": "0b909c42",
   "metadata": {},
   "outputs": [],
   "source": []
  },
  {
   "cell_type": "code",
   "execution_count": null,
   "id": "e0dadae8",
   "metadata": {},
   "outputs": [],
   "source": []
  },
  {
   "cell_type": "code",
   "execution_count": null,
   "id": "024cc135",
   "metadata": {},
   "outputs": [],
   "source": []
  },
  {
   "cell_type": "code",
   "execution_count": null,
   "id": "13faa3be",
   "metadata": {},
   "outputs": [],
   "source": []
  },
  {
   "cell_type": "code",
   "execution_count": null,
   "id": "65ba543a",
   "metadata": {},
   "outputs": [],
   "source": []
  },
  {
   "cell_type": "code",
   "execution_count": null,
   "id": "f42e4db3",
   "metadata": {},
   "outputs": [],
   "source": []
  },
  {
   "cell_type": "code",
   "execution_count": null,
   "id": "5c56e27b",
   "metadata": {},
   "outputs": [],
   "source": []
  },
  {
   "cell_type": "code",
   "execution_count": null,
   "id": "fc1776aa",
   "metadata": {},
   "outputs": [],
   "source": []
  },
  {
   "cell_type": "code",
   "execution_count": null,
   "id": "fda5edcf",
   "metadata": {},
   "outputs": [],
   "source": []
  },
  {
   "cell_type": "code",
   "execution_count": null,
   "id": "1417db2a",
   "metadata": {},
   "outputs": [],
   "source": []
  },
  {
   "cell_type": "code",
   "execution_count": null,
   "id": "0abc5b85",
   "metadata": {},
   "outputs": [],
   "source": []
  },
  {
   "cell_type": "code",
   "execution_count": null,
   "id": "07f24a58",
   "metadata": {},
   "outputs": [],
   "source": []
  },
  {
   "cell_type": "code",
   "execution_count": null,
   "id": "9edc86de",
   "metadata": {},
   "outputs": [],
   "source": []
  },
  {
   "cell_type": "code",
   "execution_count": null,
   "id": "910aafa0",
   "metadata": {},
   "outputs": [],
   "source": []
  },
  {
   "cell_type": "code",
   "execution_count": null,
   "id": "8c10b8c2",
   "metadata": {},
   "outputs": [],
   "source": []
  },
  {
   "cell_type": "code",
   "execution_count": null,
   "id": "1c342290",
   "metadata": {},
   "outputs": [],
   "source": []
  },
  {
   "cell_type": "code",
   "execution_count": null,
   "id": "6d120b53",
   "metadata": {},
   "outputs": [],
   "source": []
  },
  {
   "cell_type": "code",
   "execution_count": null,
   "id": "334b34b1",
   "metadata": {},
   "outputs": [],
   "source": []
  },
  {
   "cell_type": "code",
   "execution_count": null,
   "id": "49a3287d",
   "metadata": {},
   "outputs": [],
   "source": []
  }
 ],
 "metadata": {
  "kernelspec": {
   "display_name": "Python 3 (ipykernel)",
   "language": "python",
   "name": "python3"
  },
  "language_info": {
   "codemirror_mode": {
    "name": "ipython",
    "version": 3
   },
   "file_extension": ".py",
   "mimetype": "text/x-python",
   "name": "python",
   "nbconvert_exporter": "python",
   "pygments_lexer": "ipython3",
   "version": "3.11.5"
  }
 },
 "nbformat": 4,
 "nbformat_minor": 5
}
