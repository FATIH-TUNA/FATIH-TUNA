{
 "cells": [
  {
   "cell_type": "code",
   "execution_count": 1,
   "id": "8439c285",
   "metadata": {},
   "outputs": [],
   "source": [
    "from PyQt5.QtGui import*\n",
    "from PyQt5.QtCore import*\n",
    "from PyQt5.QtWidgets import*\n",
    "import sys,time,math"
   ]
  },
  {
   "cell_type": "code",
   "execution_count": 2,
   "id": "a668b8f1",
   "metadata": {
    "scrolled": true
   },
   "outputs": [
    {
     "ename": "SystemExit",
     "evalue": "0",
     "output_type": "error",
     "traceback": [
      "An exception has occurred, use %tb to see the full traceback.\n",
      "\u001b[1;31mSystemExit\u001b[0m\u001b[1;31m:\u001b[0m 0\n"
     ]
    },
    {
     "name": "stderr",
     "output_type": "stream",
     "text": [
      "C:\\Users\\LENOVO\\anaconda3\\lib\\site-packages\\IPython\\core\\interactiveshell.py:3377: UserWarning: To exit: use 'exit', 'quit', or Ctrl-D.\n",
      "  warn(\"To exit: use 'exit', 'quit', or Ctrl-D.\", stacklevel=1)\n"
     ]
    }
   ],
   "source": [
    "class deneme(QDialog):\n",
    "    def __init__(self):\n",
    "        super().__init__()\n",
    "        self.izgara=QGridLayout()\n",
    "        \n",
    "        self.izgara.addWidget(QLabel(\"\\nBIR SAYI GIRINIZ: \"),0,0)\n",
    "        self.sayi_1=QLineEdit()\n",
    "        self.izgara.addWidget(self.sayi_1,0,1)\n",
    "        \n",
    "        \n",
    "        self.buton=QPushButton(\"ARMSTRONG\")\n",
    "        self.buton.clicked.connect(self.tikla)\n",
    "        self.izgara.addWidget(self.buton,1,0,1,2)\n",
    "        \n",
    "        self.izgara.addWidget(QLabel(\"\\nSONUC: \"),2,0)\n",
    "        self.sonuc=QLabel(\"<font color='red'>SONUC BOLUMU...</font>\")\n",
    "        self.izgara.addWidget(self.sonuc,2,1)\n",
    "        \n",
    "        \n",
    "        self.setLayout(self.izgara)\n",
    "        self.setWindowTitle(\"MFT\")\n",
    "        self.setGeometry(200,200,600,600)\n",
    "    \n",
    "    def tikla(self):\n",
    "        liste=list()\n",
    "        self.b=0\n",
    "        self.sayi=int(self.sayi_1.text())\n",
    "        self.a=len(str(self.sayi))\n",
    "        for i in range(self.a):\n",
    "            self.b+=int(str(self.sayi)[i])**self.a\n",
    "        if self.b==self.sayi:\n",
    "            liste.append(self.b)\n",
    "            self.sonuc.setText(\"<font color='red'>%s</font>\"%str(liste))\n",
    "        else:\n",
    "            self.kalan=\"GIRILEN SAYI BIR ARMSTRONG SAYISI DEGILDIR...\"\n",
    "            self.sonuc.setText(\"<font color='red'>%s</font>\"%str(self.kalan))\n",
    "        \n",
    "    \n",
    "    \n",
    "    \n",
    "app=QApplication(sys.argv)\n",
    "pencere=deneme()\n",
    "pencere.show()\n",
    "sys.exit(app.exec_())"
   ]
  },
  {
   "cell_type": "code",
   "execution_count": null,
   "id": "51472595",
   "metadata": {},
   "outputs": [],
   "source": []
  },
  {
   "cell_type": "code",
   "execution_count": null,
   "id": "8d3352e0",
   "metadata": {},
   "outputs": [],
   "source": []
  }
 ],
 "metadata": {
  "kernelspec": {
   "display_name": "Python 3 (ipykernel)",
   "language": "python",
   "name": "python3"
  },
  "language_info": {
   "codemirror_mode": {
    "name": "ipython",
    "version": 3
   },
   "file_extension": ".py",
   "mimetype": "text/x-python",
   "name": "python",
   "nbconvert_exporter": "python",
   "pygments_lexer": "ipython3",
   "version": "3.9.12"
  }
 },
 "nbformat": 4,
 "nbformat_minor": 5
}
