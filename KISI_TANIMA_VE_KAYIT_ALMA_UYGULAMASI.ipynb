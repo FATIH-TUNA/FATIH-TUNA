{
 "cells": [
  {
   "cell_type": "code",
   "execution_count": 1,
   "id": "e8202b16",
   "metadata": {},
   "outputs": [],
   "source": [
    "import dlib\n",
    "import face_recognition\n",
    "import pytesseract\n",
    "from PIL import*\n",
    "import cv2\n",
    "import time\n",
    "import winsound\n",
    "import requests\n",
    "import numpy as np\n",
    "import datetime\n"
   ]
  },
  {
   "cell_type": "code",
   "execution_count": null,
   "id": "54017eb0",
   "metadata": {},
   "outputs": [],
   "source": []
  },
  {
   "cell_type": "code",
   "execution_count": 2,
   "id": "9471db82",
   "metadata": {
    "scrolled": true
   },
   "outputs": [],
   "source": [
    "cam=cv2.VideoCapture(0)\n",
    "detector=dlib.get_frontal_face_detector()\n",
    "tuna=face_recognition.load_image_file(r\"C:\\Users\\LENOVO\\Desktop\\MFT.jpg\")\n",
    "tuna_enc=face_recognition.face_encodings(tuna)[0]\n",
    "\n",
    "\n",
    "\n",
    "while True:\n",
    "    ret,camera=cam.read()\n",
    "    yuz_liste=list()\n",
    "    dene=detector(camera)\n",
    "    for en in dene:\n",
    "        x=en.left()\n",
    "        y=en.top()\n",
    "        w=en.right()\n",
    "        h=en.bottom()\n",
    "        yuz_liste.append((y,w,h,x))\n",
    "    yuz_enc=face_recognition.face_encodings(camera,yuz_liste)\n",
    "    i=0\n",
    "    for deneme in yuz_enc:\n",
    "        sonucum=face_recognition.compare_faces([tuna_enc],deneme)\n",
    "        if sonucum[0]==True:\n",
    "            cv2.rectangle(camera,(x,y),(w,h),(200,0,200),thickness=2)\n",
    "            cv2.putText(camera,\"MEHMET_FATIH_TUNA\",(x,h+35),cv2.FONT_HERSHEY_PLAIN,2,(0,200,0),thickness=2)\n",
    "            \n",
    "            \n",
    "        else:\n",
    "            cv2.rectangle(camera,(x,y),(w,h),(0,200,0),thickness=2)\n",
    "            cv2.putText(camera,\"ALIEN\",(x,h+35),cv2.FONT_HERSHEY_PLAIN,2,(100,0,100),thickness=2)\n",
    "            cv2.imwrite(\"FATIH_1.jpg\",camera)\n",
    "            winsound.Beep(1500,2000)\n",
    "            print(datetime.datetime.now())\n",
    "            \n",
    "    cv2.imshow(\"KAMERA\",camera)\n",
    "    if cv2.waitKey(1) & 0xFF==ord(\"q\"):\n",
    "        break\n",
    "        \n",
    "cam.release()\n",
    "cv2.destroyAllWindows()"
   ]
  },
  {
   "cell_type": "code",
   "execution_count": null,
   "id": "c984a717",
   "metadata": {},
   "outputs": [],
   "source": []
  },
  {
   "cell_type": "code",
   "execution_count": null,
   "id": "ff9a33fa",
   "metadata": {},
   "outputs": [],
   "source": []
  },
  {
   "cell_type": "code",
   "execution_count": null,
   "id": "5e93895d",
   "metadata": {},
   "outputs": [],
   "source": []
  },
  {
   "cell_type": "code",
   "execution_count": null,
   "id": "3fb14c5b",
   "metadata": {},
   "outputs": [],
   "source": []
  },
  {
   "cell_type": "code",
   "execution_count": null,
   "id": "22e685c4",
   "metadata": {},
   "outputs": [],
   "source": []
  },
  {
   "cell_type": "code",
   "execution_count": null,
   "id": "ac8a6598",
   "metadata": {},
   "outputs": [],
   "source": []
  },
  {
   "cell_type": "code",
   "execution_count": null,
   "id": "f530bb4b",
   "metadata": {},
   "outputs": [],
   "source": []
  },
  {
   "cell_type": "code",
   "execution_count": null,
   "id": "16f2b78b",
   "metadata": {},
   "outputs": [],
   "source": []
  },
  {
   "cell_type": "code",
   "execution_count": null,
   "id": "0b909c42",
   "metadata": {},
   "outputs": [],
   "source": []
  },
  {
   "cell_type": "code",
   "execution_count": null,
   "id": "e0dadae8",
   "metadata": {},
   "outputs": [],
   "source": []
  },
  {
   "cell_type": "code",
   "execution_count": null,
   "id": "024cc135",
   "metadata": {},
   "outputs": [],
   "source": []
  },
  {
   "cell_type": "code",
   "execution_count": null,
   "id": "13faa3be",
   "metadata": {},
   "outputs": [],
   "source": []
  },
  {
   "cell_type": "code",
   "execution_count": null,
   "id": "65ba543a",
   "metadata": {},
   "outputs": [],
   "source": []
  },
  {
   "cell_type": "code",
   "execution_count": null,
   "id": "f42e4db3",
   "metadata": {},
   "outputs": [],
   "source": []
  },
  {
   "cell_type": "code",
   "execution_count": null,
   "id": "5c56e27b",
   "metadata": {},
   "outputs": [],
   "source": []
  },
  {
   "cell_type": "code",
   "execution_count": null,
   "id": "fc1776aa",
   "metadata": {},
   "outputs": [],
   "source": []
  },
  {
   "cell_type": "code",
   "execution_count": null,
   "id": "fda5edcf",
   "metadata": {},
   "outputs": [],
   "source": []
  },
  {
   "cell_type": "code",
   "execution_count": null,
   "id": "1417db2a",
   "metadata": {},
   "outputs": [],
   "source": []
  },
  {
   "cell_type": "code",
   "execution_count": null,
   "id": "0abc5b85",
   "metadata": {},
   "outputs": [],
   "source": []
  },
  {
   "cell_type": "code",
   "execution_count": null,
   "id": "07f24a58",
   "metadata": {},
   "outputs": [],
   "source": []
  },
  {
   "cell_type": "code",
   "execution_count": null,
   "id": "9edc86de",
   "metadata": {},
   "outputs": [],
   "source": []
  },
  {
   "cell_type": "code",
   "execution_count": null,
   "id": "910aafa0",
   "metadata": {},
   "outputs": [],
   "source": []
  },
  {
   "cell_type": "code",
   "execution_count": null,
   "id": "8c10b8c2",
   "metadata": {},
   "outputs": [],
   "source": []
  },
  {
   "cell_type": "code",
   "execution_count": null,
   "id": "1c342290",
   "metadata": {},
   "outputs": [],
   "source": []
  },
  {
   "cell_type": "code",
   "execution_count": null,
   "id": "6d120b53",
   "metadata": {},
   "outputs": [],
   "source": []
  },
  {
   "cell_type": "code",
   "execution_count": null,
   "id": "334b34b1",
   "metadata": {},
   "outputs": [],
   "source": []
  },
  {
   "cell_type": "code",
   "execution_count": null,
   "id": "49a3287d",
   "metadata": {},
   "outputs": [],
   "source": []
  }
 ],
 "metadata": {
  "kernelspec": {
   "display_name": "Python 3 (ipykernel)",
   "language": "python",
   "name": "python3"
  },
  "language_info": {
   "codemirror_mode": {
    "name": "ipython",
    "version": 3
   },
   "file_extension": ".py",
   "mimetype": "text/x-python",
   "name": "python",
   "nbconvert_exporter": "python",
   "pygments_lexer": "ipython3",
   "version": "3.11.5"
  }
 },
 "nbformat": 4,
 "nbformat_minor": 5
}
