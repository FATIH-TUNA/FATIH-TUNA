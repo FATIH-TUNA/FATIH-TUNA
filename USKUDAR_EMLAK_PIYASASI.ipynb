{
 "cells": [
  {
   "cell_type": "code",
   "execution_count": 1,
   "id": "c2466cec",
   "metadata": {},
   "outputs": [],
   "source": [
    "import pandas as pd\n",
    "import numpy as np\n",
    "import matplotlib.pyplot as plt\n",
    "import seaborn as sns\n",
    "from sklearn.model_selection import train_test_split"
   ]
  },
  {
   "cell_type": "code",
   "execution_count": 2,
   "id": "4adf79e2",
   "metadata": {},
   "outputs": [
    {
     "data": {
      "text/html": [
       "<div>\n",
       "<style scoped>\n",
       "    .dataframe tbody tr th:only-of-type {\n",
       "        vertical-align: middle;\n",
       "    }\n",
       "\n",
       "    .dataframe tbody tr th {\n",
       "        vertical-align: top;\n",
       "    }\n",
       "\n",
       "    .dataframe thead th {\n",
       "        text-align: right;\n",
       "    }\n",
       "</style>\n",
       "<table border=\"1\" class=\"dataframe\">\n",
       "  <thead>\n",
       "    <tr style=\"text-align: right;\">\n",
       "      <th></th>\n",
       "      <th>Unnamed: 0</th>\n",
       "      <th>Fiyat</th>\n",
       "      <th>Oda_Sayısı</th>\n",
       "      <th>Net_m2</th>\n",
       "      <th>Katı</th>\n",
       "      <th>Yaşı</th>\n",
       "    </tr>\n",
       "  </thead>\n",
       "  <tbody>\n",
       "    <tr>\n",
       "      <th>0</th>\n",
       "      <td>0</td>\n",
       "      <td>475</td>\n",
       "      <td>1</td>\n",
       "      <td>40</td>\n",
       "      <td>0</td>\n",
       "      <td>6</td>\n",
       "    </tr>\n",
       "    <tr>\n",
       "      <th>1</th>\n",
       "      <td>1</td>\n",
       "      <td>475</td>\n",
       "      <td>1</td>\n",
       "      <td>55</td>\n",
       "      <td>0</td>\n",
       "      <td>5</td>\n",
       "    </tr>\n",
       "    <tr>\n",
       "      <th>2</th>\n",
       "      <td>2</td>\n",
       "      <td>450</td>\n",
       "      <td>1</td>\n",
       "      <td>50</td>\n",
       "      <td>0</td>\n",
       "      <td>7</td>\n",
       "    </tr>\n",
       "    <tr>\n",
       "      <th>3</th>\n",
       "      <td>3</td>\n",
       "      <td>450</td>\n",
       "      <td>1</td>\n",
       "      <td>55</td>\n",
       "      <td>1</td>\n",
       "      <td>6</td>\n",
       "    </tr>\n",
       "    <tr>\n",
       "      <th>4</th>\n",
       "      <td>4</td>\n",
       "      <td>475</td>\n",
       "      <td>1</td>\n",
       "      <td>45</td>\n",
       "      <td>2</td>\n",
       "      <td>7</td>\n",
       "    </tr>\n",
       "  </tbody>\n",
       "</table>\n",
       "</div>"
      ],
      "text/plain": [
       "   Unnamed: 0  Fiyat  Oda_Sayısı  Net_m2  Katı  Yaşı\n",
       "0           0    475           1      40     0     6\n",
       "1           1    475           1      55     0     5\n",
       "2           2    450           1      50     0     7\n",
       "3           3    450           1      55     1     6\n",
       "4           4    475           1      45     2     7"
      ]
     },
     "execution_count": 2,
     "metadata": {},
     "output_type": "execute_result"
    }
   ],
   "source": [
    "veri=pd.read_excel(\"https://www.dropbox.com/s/luoopt5biecb04g/SATILIK_EV1.xlsx?dl=1\")\n",
    "veri.head()"
   ]
  },
  {
   "cell_type": "code",
   "execution_count": 3,
   "id": "36d17b55",
   "metadata": {},
   "outputs": [
    {
     "name": "stdout",
     "output_type": "stream",
     "text": [
      "<class 'pandas.core.frame.DataFrame'>\n",
      "RangeIndex: 191 entries, 0 to 190\n",
      "Data columns (total 6 columns):\n",
      " #   Column      Non-Null Count  Dtype\n",
      "---  ------      --------------  -----\n",
      " 0   Unnamed: 0  191 non-null    int64\n",
      " 1   Fiyat       191 non-null    int64\n",
      " 2   Oda_Sayısı  191 non-null    int64\n",
      " 3   Net_m2      191 non-null    int64\n",
      " 4   Katı        191 non-null    int64\n",
      " 5   Yaşı        191 non-null    int64\n",
      "dtypes: int64(6)\n",
      "memory usage: 9.1 KB\n"
     ]
    }
   ],
   "source": [
    "veri.info()"
   ]
  },
  {
   "cell_type": "code",
   "execution_count": 4,
   "id": "ea25dd04",
   "metadata": {},
   "outputs": [
    {
     "data": {
      "text/html": [
       "<div>\n",
       "<style scoped>\n",
       "    .dataframe tbody tr th:only-of-type {\n",
       "        vertical-align: middle;\n",
       "    }\n",
       "\n",
       "    .dataframe tbody tr th {\n",
       "        vertical-align: top;\n",
       "    }\n",
       "\n",
       "    .dataframe thead th {\n",
       "        text-align: right;\n",
       "    }\n",
       "</style>\n",
       "<table border=\"1\" class=\"dataframe\">\n",
       "  <thead>\n",
       "    <tr style=\"text-align: right;\">\n",
       "      <th></th>\n",
       "      <th>count</th>\n",
       "      <th>mean</th>\n",
       "      <th>std</th>\n",
       "      <th>min</th>\n",
       "      <th>25%</th>\n",
       "      <th>50%</th>\n",
       "      <th>75%</th>\n",
       "      <th>max</th>\n",
       "    </tr>\n",
       "  </thead>\n",
       "  <tbody>\n",
       "    <tr>\n",
       "      <th>Unnamed: 0</th>\n",
       "      <td>191.0</td>\n",
       "      <td>95.000000</td>\n",
       "      <td>55.281100</td>\n",
       "      <td>0.0</td>\n",
       "      <td>47.5</td>\n",
       "      <td>95.0</td>\n",
       "      <td>142.5</td>\n",
       "      <td>190.0</td>\n",
       "    </tr>\n",
       "    <tr>\n",
       "      <th>Fiyat</th>\n",
       "      <td>191.0</td>\n",
       "      <td>649.476440</td>\n",
       "      <td>111.064174</td>\n",
       "      <td>450.0</td>\n",
       "      <td>575.0</td>\n",
       "      <td>650.0</td>\n",
       "      <td>700.0</td>\n",
       "      <td>1175.0</td>\n",
       "    </tr>\n",
       "    <tr>\n",
       "      <th>Oda_Sayısı</th>\n",
       "      <td>191.0</td>\n",
       "      <td>2.340314</td>\n",
       "      <td>0.721401</td>\n",
       "      <td>1.0</td>\n",
       "      <td>2.0</td>\n",
       "      <td>2.0</td>\n",
       "      <td>3.0</td>\n",
       "      <td>3.0</td>\n",
       "    </tr>\n",
       "    <tr>\n",
       "      <th>Net_m2</th>\n",
       "      <td>191.0</td>\n",
       "      <td>85.183246</td>\n",
       "      <td>16.482620</td>\n",
       "      <td>40.0</td>\n",
       "      <td>80.0</td>\n",
       "      <td>90.0</td>\n",
       "      <td>95.0</td>\n",
       "      <td>125.0</td>\n",
       "    </tr>\n",
       "    <tr>\n",
       "      <th>Katı</th>\n",
       "      <td>191.0</td>\n",
       "      <td>3.931937</td>\n",
       "      <td>3.752974</td>\n",
       "      <td>0.0</td>\n",
       "      <td>0.0</td>\n",
       "      <td>3.0</td>\n",
       "      <td>7.0</td>\n",
       "      <td>11.0</td>\n",
       "    </tr>\n",
       "    <tr>\n",
       "      <th>Yaşı</th>\n",
       "      <td>191.0</td>\n",
       "      <td>12.753927</td>\n",
       "      <td>8.374596</td>\n",
       "      <td>0.0</td>\n",
       "      <td>4.0</td>\n",
       "      <td>16.0</td>\n",
       "      <td>20.0</td>\n",
       "      <td>24.0</td>\n",
       "    </tr>\n",
       "  </tbody>\n",
       "</table>\n",
       "</div>"
      ],
      "text/plain": [
       "            count        mean         std    min    25%    50%    75%     max\n",
       "Unnamed: 0  191.0   95.000000   55.281100    0.0   47.5   95.0  142.5   190.0\n",
       "Fiyat       191.0  649.476440  111.064174  450.0  575.0  650.0  700.0  1175.0\n",
       "Oda_Sayısı  191.0    2.340314    0.721401    1.0    2.0    2.0    3.0     3.0\n",
       "Net_m2      191.0   85.183246   16.482620   40.0   80.0   90.0   95.0   125.0\n",
       "Katı        191.0    3.931937    3.752974    0.0    0.0    3.0    7.0    11.0\n",
       "Yaşı        191.0   12.753927    8.374596    0.0    4.0   16.0   20.0    24.0"
      ]
     },
     "execution_count": 4,
     "metadata": {},
     "output_type": "execute_result"
    }
   ],
   "source": [
    "veri.describe().T"
   ]
  },
  {
   "cell_type": "code",
   "execution_count": 5,
   "id": "d7d377bb",
   "metadata": {},
   "outputs": [
    {
     "data": {
      "text/plain": [
       "Unnamed: 0    0\n",
       "Fiyat         0\n",
       "Oda_Sayısı    0\n",
       "Net_m2        0\n",
       "Katı          0\n",
       "Yaşı          0\n",
       "dtype: int64"
      ]
     },
     "execution_count": 5,
     "metadata": {},
     "output_type": "execute_result"
    }
   ],
   "source": [
    "veri.isnull().sum()"
   ]
  },
  {
   "cell_type": "code",
   "execution_count": 6,
   "id": "667dc027",
   "metadata": {},
   "outputs": [
    {
     "data": {
      "text/plain": [
       "<AxesSubplot:>"
      ]
     },
     "execution_count": 6,
     "metadata": {},
     "output_type": "execute_result"
    },
    {
     "data": {
      "image/png": "[encoded data removed]",
      "text/plain": [
       "<Figure size 864x864 with 2 Axes>"
      ]
     },
     "metadata": {
      "needs_background": "light"
     },
     "output_type": "display_data"
    }
   ],
   "source": [
    "plt.figure(figsize=(12,12))\n",
    "cor=veri.corr()\n",
    "sns.heatmap(cor,annot=True,cmap=plt.cm.Reds)"
   ]
  },
  {
   "cell_type": "code",
   "execution_count": 7,
   "id": "7bde4709",
   "metadata": {},
   "outputs": [
    {
     "name": "stderr",
     "output_type": "stream",
     "text": [
      "C:\\Users\\LENOVO\\anaconda3\\lib\\site-packages\\seaborn\\distributions.py:2619: FutureWarning: `distplot` is a deprecated function and will be removed in a future version. Please adapt your code to use either `displot` (a figure-level function with similar flexibility) or `histplot` (an axes-level function for histograms).\n",
      "  warnings.warn(msg, FutureWarning)\n"
     ]
    },
    {
     "data": {
      "text/plain": [
       "<AxesSubplot:xlabel='Fiyat', ylabel='Density'>"
      ]
     },
     "execution_count": 7,
     "metadata": {},
     "output_type": "execute_result"
    },
    {
     "data": {
      "image/png": "[encoded data removed]",
      "text/plain": [
       "<Figure size 432x288 with 1 Axes>"
      ]
     },
     "metadata": {
      "needs_background": "light"
     },
     "output_type": "display_data"
    }
   ],
   "source": [
    "sns.distplot(veri['Fiyat'])"
   ]
  },
  {
   "cell_type": "code",
   "execution_count": 8,
   "id": "59176056",
   "metadata": {},
   "outputs": [
    {
     "data": {
      "text/plain": [
       "LinearRegression()"
      ]
     },
     "execution_count": 8,
     "metadata": {},
     "output_type": "execute_result"
    }
   ],
   "source": [
    "x=veri[['Oda_Sayısı','Net_m2','Katı','Yaşı']]\n",
    "y=veri['Fiyat']\n",
    "x_egitim,x_test,y_egitim,y_test=train_test_split(x,y,test_size=0.20,random_state=0)\n",
    "from sklearn.linear_model import LinearRegression\n",
    "model_lr=LinearRegression()\n",
    "model_lr.fit(x_egitim,y_egitim)"
   ]
  },
  {
   "cell_type": "code",
   "execution_count": null,
   "id": "02aaa9cd",
   "metadata": {},
   "outputs": [],
   "source": []
  },
  {
   "cell_type": "code",
   "execution_count": 9,
   "id": "f4adb6f1",
   "metadata": {},
   "outputs": [
    {
     "name": "stdout",
     "output_type": "stream",
     "text": [
      "MODEL ICIN SABIT DEGER:  317.95778195650087\n",
      "\n",
      "[125.40233478   0.86598291   7.61699499  -5.12676156]\n"
     ]
    }
   ],
   "source": [
    "print(\"MODEL ICIN SABIT DEGER: \",model_lr.intercept_)\n",
    "print()\n",
    "print(model_lr.coef_)"
   ]
  },
  {
   "cell_type": "code",
   "execution_count": 10,
   "id": "1c76c384",
   "metadata": {},
   "outputs": [
    {
     "name": "stdout",
     "output_type": "stream",
     "text": [
      "                     0\n",
      "Oda_Sayısı  125.402335\n",
      "Net_m2        0.865983\n",
      "Katı          7.616995\n",
      "Yaşı         -5.126762\n"
     ]
    }
   ],
   "source": [
    "degerler=pd.DataFrame(model_lr.coef_,x.columns)\n",
    "print(degerler)"
   ]
  },
  {
   "cell_type": "code",
   "execution_count": 11,
   "id": "c80967bd",
   "metadata": {},
   "outputs": [
    {
     "name": "stdout",
     "output_type": "stream",
     "text": [
      "\n",
      "GERCEKK FIYAT: 707.15\tTAHMIN EDILEN FIYAT: 475.00\n",
      "\n",
      "GERCEKK FIYAT: 661.79\tTAHMIN EDILEN FIYAT: 475.00\n",
      "\n",
      "GERCEKK FIYAT: 682.17\tTAHMIN EDILEN FIYAT: 450.00\n",
      "\n",
      "GERCEKK FIYAT: 727.20\tTAHMIN EDILEN FIYAT: 450.00\n",
      "\n",
      "GERCEKK FIYAT: 694.40\tTAHMIN EDILEN FIYAT: 475.00\n",
      "\n",
      "GERCEKK FIYAT: 681.35\tTAHMIN EDILEN FIYAT: 475.00\n",
      "\n",
      "GERCEKK FIYAT: 493.33\tTAHMIN EDILEN FIYAT: 475.00\n",
      "\n",
      "GERCEKK FIYAT: 686.64\tTAHMIN EDILEN FIYAT: 475.00\n",
      "\n",
      "GERCEKK FIYAT: 778.99\tTAHMIN EDILEN FIYAT: 450.00\n",
      "\n",
      "GERCEKK FIYAT: 450.77\tTAHMIN EDILEN FIYAT: 475.00\n",
      "\n",
      "GERCEKK FIYAT: 460.23\tTAHMIN EDILEN FIYAT: 475.00\n",
      "\n",
      "GERCEKK FIYAT: 707.15\tTAHMIN EDILEN FIYAT: 525.00\n",
      "\n",
      "GERCEKK FIYAT: 683.86\tTAHMIN EDILEN FIYAT: 550.00\n",
      "\n",
      "GERCEKK FIYAT: 732.49\tTAHMIN EDILEN FIYAT: 575.00\n",
      "\n",
      "GERCEKK FIYAT: 658.52\tTAHMIN EDILEN FIYAT: 550.00\n",
      "\n",
      "GERCEKK FIYAT: 710.29\tTAHMIN EDILEN FIYAT: 575.00\n",
      "\n",
      "GERCEKK FIYAT: 558.50\tTAHMIN EDILEN FIYAT: 500.00\n",
      "\n",
      "GERCEKK FIYAT: 696.59\tTAHMIN EDILEN FIYAT: 550.00\n",
      "\n",
      "GERCEKK FIYAT: 695.20\tTAHMIN EDILEN FIYAT: 525.00\n",
      "\n",
      "GERCEKK FIYAT: 673.90\tTAHMIN EDILEN FIYAT: 500.00\n",
      "\n",
      "GERCEKK FIYAT: 526.95\tTAHMIN EDILEN FIYAT: 550.00\n",
      "\n",
      "GERCEKK FIYAT: 745.09\tTAHMIN EDILEN FIYAT: 500.00\n",
      "\n",
      "GERCEKK FIYAT: 697.69\tTAHMIN EDILEN FIYAT: 550.00\n",
      "\n",
      "GERCEKK FIYAT: 788.09\tTAHMIN EDILEN FIYAT: 550.00\n",
      "\n",
      "GERCEKK FIYAT: 697.40\tTAHMIN EDILEN FIYAT: 575.00\n",
      "\n",
      "GERCEKK FIYAT: 707.80\tTAHMIN EDILEN FIYAT: 500.00\n",
      "\n",
      "GERCEKK FIYAT: 684.64\tTAHMIN EDILEN FIYAT: 500.00\n",
      "\n",
      "GERCEKK FIYAT: 727.20\tTAHMIN EDILEN FIYAT: 525.00\n",
      "\n",
      "GERCEKK FIYAT: 796.75\tTAHMIN EDILEN FIYAT: 525.00\n",
      "\n",
      "GERCEKK FIYAT: 515.00\tTAHMIN EDILEN FIYAT: 575.00\n",
      "\n",
      "GERCEKK FIYAT: 461.68\tTAHMIN EDILEN FIYAT: 500.00\n",
      "\n",
      "GERCEKK FIYAT: 528.54\tTAHMIN EDILEN FIYAT: 500.00\n",
      "\n",
      "GERCEKK FIYAT: 696.73\tTAHMIN EDILEN FIYAT: 575.00\n",
      "\n",
      "GERCEKK FIYAT: 526.95\tTAHMIN EDILEN FIYAT: 500.00\n",
      "\n",
      "GERCEKK FIYAT: 529.34\tTAHMIN EDILEN FIYAT: 575.00\n",
      "\n",
      "GERCEKK FIYAT: 556.11\tTAHMIN EDILEN FIYAT: 525.00\n",
      "\n",
      "GERCEKK FIYAT: 732.85\tTAHMIN EDILEN FIYAT: 500.00\n",
      "\n",
      "GERCEKK FIYAT: 684.95\tTAHMIN EDILEN FIYAT: 500.00\n",
      "\n",
      "GERCEKK FIYAT: 686.64\tTAHMIN EDILEN FIYAT: 625.00\n"
     ]
    }
   ],
   "source": [
    "tahmin_test=model_lr.predict(x_test)\n",
    "for i,tahmin in enumerate(tahmin_test):\n",
    "    print(\"\\nGERCEKK FIYAT: %.2f\\tTAHMIN EDILEN FIYAT: %.2f\"%(tahmin,y[i]))"
   ]
  },
  {
   "cell_type": "code",
   "execution_count": 12,
   "id": "d57b4aa3",
   "metadata": {},
   "outputs": [
    {
     "name": "stdout",
     "output_type": "stream",
     "text": [
      "MEAN SQUARED ERROR: 0.72\n"
     ]
    }
   ],
   "source": [
    "from sklearn.metrics import*\n",
    "print(\"MEAN SQUARED ERROR: %.2f\"%r2_score(y_test,tahmin_test))"
   ]
  },
  {
   "cell_type": "code",
   "execution_count": 13,
   "id": "0a0df175",
   "metadata": {},
   "outputs": [
    {
     "data": {
      "text/plain": [
       "<matplotlib.collections.PathCollection at 0x1dcbba67d30>"
      ]
     },
     "execution_count": 13,
     "metadata": {},
     "output_type": "execute_result"
    },
    {
     "data": {
      "image/png": "[encoded data removed]",
      "text/plain": [
       "<Figure size 432x288 with 1 Axes>"
      ]
     },
     "metadata": {
      "needs_background": "light"
     },
     "output_type": "display_data"
    }
   ],
   "source": [
    "plt.scatter(y_test,tahmin_test)"
   ]
  },
  {
   "cell_type": "code",
   "execution_count": null,
   "id": "b973f54a",
   "metadata": {},
   "outputs": [],
   "source": [
    "while True:\n",
    "    liste=[]\n",
    "    Oda_sayisi=float(input(\"\\nODA SAYISI GIRINIZ: \"))\n",
    "    Net_m2=float(input(\"\\nMETRE KAREYI GIRINIZ: \"))\n",
    "    Kat=float(input(\"\\nBULUNDUGU KATI GIRINIZ: \"))\n",
    "    Yasi=float(input(\"\\nBINA YASINI GIRINIZ: \"))\n",
    "    liste.append(Oda_sayisi)\n",
    "    liste.append(Net_m2)\n",
    "    liste.append(Kat)\n",
    "    liste.append(Yasi)\n",
    "    basla=np.array([liste])\n",
    "    tahmin_veri=model_lr.predict(basla)\n",
    "    print(\"\\nTAHMINI FIYAT: %.2f\"%tahmin_veri)\n",
    "    cevap=str(input(\"\\nISLEM DEVAM ETSIN MI: \")).upper()\n",
    "    if(cevap=='E'):\n",
    "        continue\n",
    "    else:\n",
    "        break"
   ]
  },
  {
   "cell_type": "code",
   "execution_count": null,
   "id": "17a2ac1e",
   "metadata": {},
   "outputs": [],
   "source": []
  },
  {
   "cell_type": "code",
   "execution_count": null,
   "id": "158e16c9",
   "metadata": {},
   "outputs": [],
   "source": []
  },
  {
   "cell_type": "code",
   "execution_count": null,
   "id": "c9d42fd9",
   "metadata": {},
   "outputs": [],
   "source": []
  },
  {
   "cell_type": "code",
   "execution_count": null,
   "id": "426f6372",
   "metadata": {},
   "outputs": [],
   "source": []
  },
  {
   "cell_type": "code",
   "execution_count": null,
   "id": "284a5a05",
   "metadata": {},
   "outputs": [],
   "source": []
  },
  {
   "cell_type": "code",
   "execution_count": null,
   "id": "e9c25643",
   "metadata": {},
   "outputs": [],
   "source": []
  },
  {
   "cell_type": "code",
   "execution_count": null,
   "id": "5253efea",
   "metadata": {},
   "outputs": [],
   "source": []
  },
  {
   "cell_type": "code",
   "execution_count": null,
   "id": "3afd7581",
   "metadata": {},
   "outputs": [],
   "source": []
  },
  {
   "cell_type": "code",
   "execution_count": null,
   "id": "ffa59afb",
   "metadata": {},
   "outputs": [],
   "source": []
  },
  {
   "cell_type": "code",
   "execution_count": null,
   "id": "c0ffc617",
   "metadata": {},
   "outputs": [],
   "source": []
  },
  {
   "cell_type": "code",
   "execution_count": null,
   "id": "03408122",
   "metadata": {},
   "outputs": [],
   "source": []
  },
  {
   "cell_type": "code",
   "execution_count": null,
   "id": "dab7b7a3",
   "metadata": {},
   "outputs": [],
   "source": []
  },
  {
   "cell_type": "markdown",
   "id": "88c220cb",
   "metadata": {},
   "source": []
  },
  {
   "cell_type": "code",
   "execution_count": null,
   "id": "f0ba0140",
   "metadata": {},
   "outputs": [],
   "source": []
  }
 ],
 "metadata": {
  "kernelspec": {
   "display_name": "Python 3 (ipykernel)",
   "language": "python",
   "name": "python3"
  },
  "language_info": {
   "codemirror_mode": {
    "name": "ipython",
    "version": 3
   },
   "file_extension": ".py",
   "mimetype": "text/x-python",
   "name": "python",
   "nbconvert_exporter": "python",
   "pygments_lexer": "ipython3",
   "version": "3.9.12"
  }
 },
 "nbformat": 4,
 "nbformat_minor": 5
}
