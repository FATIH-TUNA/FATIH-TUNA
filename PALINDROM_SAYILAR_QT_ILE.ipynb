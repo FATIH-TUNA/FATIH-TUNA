{
 "cells": [
  {
   "cell_type": "code",
   "execution_count": 1,
   "id": "741ec83f",
   "metadata": {},
   "outputs": [],
   "source": [
    "from PyQt5.QtGui import*\n",
    "from PyQt5.QtCore import*\n",
    "from PyQt5.QtWidgets import*\n",
    "import sys,time,math"
   ]
  },
  {
   "cell_type": "code",
   "execution_count": 2,
   "id": "1962438a",
   "metadata": {},
   "outputs": [
    {
     "ename": "SystemExit",
     "evalue": "0",
     "output_type": "error",
     "traceback": [
      "An exception has occurred, use %tb to see the full traceback.\n",
      "\u001b[1;31mSystemExit\u001b[0m\u001b[1;31m:\u001b[0m 0\n"
     ]
    },
    {
     "name": "stderr",
     "output_type": "stream",
     "text": [
      "C:\\Users\\LENOVO\\anaconda3\\lib\\site-packages\\IPython\\core\\interactiveshell.py:3377: UserWarning: To exit: use 'exit', 'quit', or Ctrl-D.\n",
      "  warn(\"To exit: use 'exit', 'quit', or Ctrl-D.\", stacklevel=1)\n"
     ]
    }
   ],
   "source": [
    "class deneme(QDialog):\n",
    "    def __init__(self):\n",
    "        super().__init__()\n",
    "        \n",
    "        self.izgara=QGridLayout()\n",
    "        \n",
    "        self.izgara.addWidget(QLabel(\"\\nSAYI_1: \"),0,0)\n",
    "        self.sayi_1=QLineEdit()\n",
    "        self.izgara.addWidget(self.sayi_1,0,1)\n",
    "        \n",
    "        self.izgara.addWidget(QLabel(\"\\nSAYI_2: \"),1,0)\n",
    "        self.sayi_2=QLineEdit()\n",
    "        self.izgara.addWidget(self.sayi_2,1,1)\n",
    "        \n",
    "        self.izgara.addWidget(QLabel(\"\\nSONUC: \"),2,0)\n",
    "        self.sonuc=QLabel(\"<font color='red'>SONUC BOLUMU...</font>\")\n",
    "        self.izgara.addWidget(self.sonuc,2,1)\n",
    "        \n",
    "        self.buton=QPushButton(\"TIKLA\")\n",
    "        self.buton.clicked.connect(self.tikla)\n",
    "        self.izgara.addWidget(self.buton,3,0)\n",
    "        \n",
    "        \n",
    "        \n",
    "        self.setLayout(self.izgara)\n",
    "        self.setWindowTitle(\"MFT\")\n",
    "        self.setGeometry(200,200,600,600)\n",
    "    def tikla(self):\n",
    "        liste=list()\n",
    "        self.sayi1=int(self.sayi_1.text())\n",
    "        self.sayi2=int(self.sayi_2.text())\n",
    "        for i in range(self.sayi1,self.sayi2):\n",
    "            self.k=str(i)[::-1]\n",
    "            if self.k==str(i):\n",
    "                liste.append(i)\n",
    "        self.sonuc.setText(\"<font color='red'>%s</font>\"%str(liste))\n",
    "    \n",
    "\n",
    "app=QApplication(sys.argv)\n",
    "pencere=deneme()\n",
    "pencere.show()\n",
    "sys.exit(app.exec_())"
   ]
  },
  {
   "cell_type": "code",
   "execution_count": null,
   "id": "38433ad7",
   "metadata": {},
   "outputs": [],
   "source": []
  }
 ],
 "metadata": {
  "kernelspec": {
   "display_name": "Python 3 (ipykernel)",
   "language": "python",
   "name": "python3"
  },
  "language_info": {
   "codemirror_mode": {
    "name": "ipython",
    "version": 3
   },
   "file_extension": ".py",
   "mimetype": "text/x-python",
   "name": "python",
   "nbconvert_exporter": "python",
   "pygments_lexer": "ipython3",
   "version": "3.9.12"
  }
 },
 "nbformat": 4,
 "nbformat_minor": 5
}
