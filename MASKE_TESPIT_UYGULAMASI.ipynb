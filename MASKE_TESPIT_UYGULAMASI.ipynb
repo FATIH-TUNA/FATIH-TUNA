{
 "cells": [
  {
   "cell_type": "code",
   "execution_count": 1,
   "id": "891a7b09",
   "metadata": {},
   "outputs": [],
   "source": [
    "import numpy as np\n",
    "import cv2\n",
    "from collections import deque\n",
    "import winsound"
   ]
  },
  {
   "cell_type": "code",
   "execution_count": 2,
   "id": "41c3d47d",
   "metadata": {},
   "outputs": [],
   "source": [
    "pen=cv2.VideoCapture(0)\n",
    "face=cv2.CascadeClassifier(r\"C:\\Users\\LENOVO\\Desktop\\Cascades\\frontalface.xml\")\n",
    "mouth=cv2.CascadeClassifier(r\"C:\\Users\\LENOVO\\Desktop\\Cascades\\mouth.xml\")\n",
    "while True:\n",
    "    ret,camera=pen.read()\n",
    "    gri=cv2.cvtColor(camera,cv2.COLOR_BGR2GRAY)\n",
    "    \n",
    "    yuz=face.detectMultiScale(gri,1.4,6)\n",
    "    if len(yuz)==0:\n",
    "        cv2.putText(camera,\"YUZ TESPITI\",(40,40),cv2.FONT_HERSHEY_SIMPLEX,1,(255,100,255),thickness=2)\n",
    "    else:\n",
    "        for x,y,w,h in yuz:\n",
    "            cv2.rectangle(camera,(x,y),(x+w,y+h),(255,100,255),thickness=2)\n",
    "            #cam=camera[y:y+h,x:x+w]\n",
    "            gri2=gri[y:y+h,x:x+w]\n",
    "            maske=mouth.detectMultiScale(gri2,1.4,6)\n",
    "            if len(maske)==0:\n",
    "                cv2.putText(camera,\"MASKE TESPIT EDILDI...\",(40,20),cv2.FONT_HERSHEY_SIMPLEX,1,(100,255,100),thickness=2)\n",
    "            else:\n",
    "                winsound.Beep(1500,2000)\n",
    "            \n",
    "    cv2.imshow(\"CAMERA\",camera)\n",
    "    if cv2.waitKey(1) &0xff==ord(\"q\"):\n",
    "        break\n",
    "pen.release()\n",
    "cv2.destroyAllWindows()"
   ]
  },
  {
   "cell_type": "code",
   "execution_count": null,
   "id": "4d2bbc80",
   "metadata": {},
   "outputs": [],
   "source": []
  },
  {
   "cell_type": "code",
   "execution_count": null,
   "id": "2a9f8f58",
   "metadata": {},
   "outputs": [],
   "source": []
  },
  {
   "cell_type": "code",
   "execution_count": null,
   "id": "c7137aeb",
   "metadata": {},
   "outputs": [],
   "source": []
  },
  {
   "cell_type": "code",
   "execution_count": null,
   "id": "297d9c26",
   "metadata": {},
   "outputs": [],
   "source": []
  }
 ],
 "metadata": {
  "kernelspec": {
   "display_name": "Python 3 (ipykernel)",
   "language": "python",
   "name": "python3"
  },
  "language_info": {
   "codemirror_mode": {
    "name": "ipython",
    "version": 3
   },
   "file_extension": ".py",
   "mimetype": "text/x-python",
   "name": "python",
   "nbconvert_exporter": "python",
   "pygments_lexer": "ipython3",
   "version": "3.11.5"
  }
 },
 "nbformat": 4,
 "nbformat_minor": 5
}
