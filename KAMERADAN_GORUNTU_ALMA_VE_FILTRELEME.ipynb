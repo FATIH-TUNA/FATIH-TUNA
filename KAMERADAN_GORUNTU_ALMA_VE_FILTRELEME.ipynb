{
 "cells": [
  {
   "cell_type": "code",
   "execution_count": 1,
   "id": "891a7b09",
   "metadata": {},
   "outputs": [],
   "source": [
    "from ultralytics import*\n",
    "import face_recognition\n",
    "import pandas as pd\n",
    "import cv2\n",
    "from collections import*\n",
    "import numpy as np\n",
    "import pytesseract\n",
    "import winsound\n",
    "import requests\n",
    "import matplotlib.pyplot as plt\n",
    "import os,imutils\n",
    "import dlib\n",
    "import datetime\n",
    "import matplotlib.pyplot as  plt"
   ]
  },
  {
   "cell_type": "code",
   "execution_count": null,
   "id": "41c3d47d",
   "metadata": {},
   "outputs": [],
   "source": []
  },
  {
   "cell_type": "code",
   "execution_count": null,
   "id": "4d2bbc80",
   "metadata": {},
   "outputs": [],
   "source": []
  },
  {
   "cell_type": "code",
   "execution_count": null,
   "id": "2a9f8f58",
   "metadata": {},
   "outputs": [
    {
     "name": "stdout",
     "output_type": "stream",
     "text": [
      "\n",
      "1---KAMERA GORUNTUSU...\n",
      "\n",
      "2---ALINAN GORUNTU...\n",
      "\n",
      "BIR SECIM YAPINIZ: \n"
     ]
    }
   ],
   "source": [
    "class deneme(object):\n",
    "    def __init__(self):\n",
    "        super().__init__()\n",
    "        self.pen=cv2.VideoCapture(0)\n",
    "        self.detector=dlib.get_frontal_face_detector()\n",
    "        self.alina=face_recognition.load_image_file(r\"C:\\Users\\LENOVO\\Desktop\\MFT.jpg\")\n",
    "        self.alina_son=face_recognition.face_encodings(self.alina)[0]\n",
    "    def  dene(self):\n",
    "        while True:\n",
    "            ret,camera=self.pen.read()\n",
    "            self.liste=list()\n",
    "            self.face=self.detector(camera)\n",
    "            for k in self.face:\n",
    "                self.x=k.left()\n",
    "                self.y=k.top()\n",
    "                self.w=k.right()\n",
    "                self.h=k.bottom()\n",
    "                self.liste.append((self.y,self.w,self.h,self.x))\n",
    "            self.faces=face_recognition.face_encodings(camera,self.liste)\n",
    "            for i in self.faces:\n",
    "                self.sonuc=face_recognition.compare_faces([self.alina_son],i)\n",
    "                if self.sonuc[0]==True:\n",
    "                    cv2.rectangle(camera,(self.x,self.y),(self.w,self.h),(255,100,100),2)\n",
    "                    cv2.putText(camera,\"FATIH\",(self.x,self.h+35),cv2.FONT_HERSHEY_PLAIN,2,(100,100,200),2)\n",
    "                    cv2.imwrite(\"KAYIT_FATIH.jpg\",camera)\n",
    "                    \n",
    "                    if \"KAYIT_FATIH.jpg\" in os.listdir():\n",
    "                        print(\"KAYIT BASARIYLA TAMAMLANDI...\")\n",
    "                    else:\n",
    "                        print(\"KAYIT YAPILAMADI...\")\n",
    "                        \n",
    "            cv2.imshow(\"CAMERA\",camera)\n",
    "            if cv2.waitKey(1) &0xff==ord(\"q\"):\n",
    "                break\n",
    "    def odak(self):\n",
    "        self.img=cv2.imread(r\"KAYIT_FATIH.jpg\",0)\n",
    "        self.median=cv2.medianBlur(self.img,13)\n",
    "        cv2.imshow(\"FILTER\",self.median)\n",
    "        cv2.waitKey(0)\n",
    "        cv2.destroyAllWindows()\n",
    "        \n",
    "    def son(self):\n",
    "        self.pen.release()\n",
    "        cv2.destroyAllWindows()\n",
    "        \n",
    "basla=deneme()    \n",
    "while True:\n",
    "    print(\"\\n1---KAMERA GORUNTUSU...\")\n",
    "    print(\"\\n2---ALINAN GORUNTU...\")\n",
    "    print(\"\\nBIR SECIM YAPINIZ: \")\n",
    "    secim=input()\n",
    "    if secim=='1':\n",
    "        print(basla.dene())\n",
    "        print(basla.son())\n",
    "    if secim=='2':\n",
    "        print(basla.odak())\n",
    "    cevap=str(input(\"\\nISLEM DEVAM ETSIN MI: \")).upper()\n",
    "    if cevap=='E':\n",
    "        continue\n",
    "    else:\n",
    "        break"
   ]
  },
  {
   "cell_type": "code",
   "execution_count": null,
   "id": "c7137aeb",
   "metadata": {},
   "outputs": [],
   "source": []
  }
 ],
 "metadata": {
  "kernelspec": {
   "display_name": "Python 3 (ipykernel)",
   "language": "python",
   "name": "python3"
  },
  "language_info": {
   "codemirror_mode": {
    "name": "ipython",
    "version": 3
   },
   "file_extension": ".py",
   "mimetype": "text/x-python",
   "name": "python",
   "nbconvert_exporter": "python",
   "pygments_lexer": "ipython3",
   "version": "3.11.5"
  }
 },
 "nbformat": 4,
 "nbformat_minor": 5
}
